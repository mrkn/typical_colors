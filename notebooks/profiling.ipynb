{
 "cells": [
  {
   "cell_type": "code",
   "execution_count": 1,
   "metadata": {
    "collapsed": true
   },
   "outputs": [],
   "source": [
    "include(\"typical_colors.jl\")"
   ]
  },
  {
   "cell_type": "code",
   "execution_count": 4,
   "metadata": {
    "collapsed": false
   },
   "outputs": [
    {
     "name": "stdout",
     "output_type": "stream",
     "text": [
      "[1] rgb(#9f7238), hsv(33.62, 0.649, 0.624)\n",
      "[2] rgb(#8783a1), hsv(247.13, 0.183, 0.630)\n",
      "[3] rgb(#aaada4), hsv(81.72, 0.048, 0.677)\n",
      "  1.906879 seconds (14.43 M allocations: 630.741 MB, 6.96% gc time)\n",
      "[1] rgb(#9f7238), hsv(33.62, 0.649, 0.624)\n",
      "[2] rgb(#8783a1), hsv(247.13, 0.183, 0.630)\n",
      "[3] rgb(#aaada4), hsv(81.72, 0.048, 0.677)\n",
      "  1.499702 seconds (14.43 M allocations: 520.612 MB, 7.12% gc time)\n",
      "[1] rgb(#aaada4), hsv(81.72, 0.048, 0.677)\n",
      "[2] rgb(#8783a1), hsv(247.13, 0.183, 0.630)\n",
      "[3] rgb(#9f7238), hsv(33.62, 0.649, 0.624)\n",
      "  1.879664 seconds (14.43 M allocations: 628.273 MB, 6.57% gc time)\n"
     ]
    }
   ],
   "source": [
    "@time extract_typical_colors(\"images/01.jpg\", 3, filter_pixels=false)\n",
    "@time extract_typical_colors(\"images/01.jpg\", 3, filter_pixels=false)\n",
    "@time extract_typical_colors(\"images/01.jpg\", 3, filter_pixels=false);"
   ]
  },
  {
   "cell_type": "code",
   "execution_count": 5,
   "metadata": {
    "collapsed": false
   },
   "outputs": [
    {
     "name": "stdout",
     "output_type": "stream",
     "text": [
      "[1] rgb(#a17d42), hsv(37.35, 0.591, 0.630)\n",
      "[2] rgb(#772c3d), hsv(346.14, 0.626, 0.465)\n",
      "[3] rgb(#a4a8ac), hsv(206.98, 0.047, 0.675)\n",
      "1    multidimensional.jl; _unsafe_setindex!; line: 296\n",
      "1037 task.jl; anonymous; line: 447\n",
      " 1037 .../IJulia/src/IJulia.jl; eventloop; line: 142\n",
      "  1037 ...rc/execute_request.jl; execute_request_0x535c5df2; line: 182\n",
      "   1037 loading.jl; include_string; line: 266\n",
      "    1    .../lib/julia/sys.dylib; typeinf_ext; (unknown line)\n",
      "     1 ...a/lib/julia/sys.dylib; typeinf; (unknown line)\n",
      "      1 ...a/lib/julia/sys.dylib; typeinf_uncached; (unknown line)\n",
      "    1036 profile.jl; anonymous; line: 16\n",
      "     5   ...rs/typical_colors.jl; extract_typical_colors; line: 9\n",
      "      5 ...0.4/Images/src/io.jl; imread; line: 128\n",
      "       5 ...formats/OSXnative.jl; read_and_release_imgsrc; line: 92\n",
      "        4 ...ormats/OSXnative.jl; fillcolor!; line: 167\n",
      "        1 ...ormats/OSXnative.jl; fillcolor!; line: 170\n",
      "         1 cartesian.jl; _unsafe_batchsetindex!; line: 34\n",
      "     11  ...rs/typical_colors.jl; extract_typical_colors; line: 11\n",
      "      10 ...4/Images/src/core.jl; convert; line: 247\n",
      "       10 abstractarray.jl; copy!; line: 310\n",
      "        1 .../src/conversions.jl; cnvt; line: 181\n",
      "        1 .../src/conversions.jl; cnvt; line: 182\n",
      "        1 .../src/conversions.jl; cnvt; line: 183\n",
      "        1 .../src/conversions.jl; cnvt; line: 191\n",
      "        1 .../src/conversions.jl; cnvt; line: 194\n",
      "        4 .../src/conversions.jl; cnvt; line: 198\n",
      "      1  ....4/Images/src/map.jl; float32; line: 508\n",
      "       1 array.jl; convert; line: 239\n",
      "        1 abstractarray.jl; copy!; line: 310\n",
      "     41  ...rs/typical_colors.jl; extract_typical_colors; line: 24\n",
      "     758 ...rs/typical_colors.jl; extract_typical_colors; line: 25\n",
      "      3   ...lib/julia/sys.dylib; !; (unknown line)\n",
      "      53  ...s/typical_colors.jl; hsv2vec; line: 5\n",
      "       43 abstractarray.jl; vect; line: 13\n",
      "      5   array.jl; getindex; line: 282\n",
      "      180 multidimensional.jl; _setindex!; line: 292\n",
      "      370 multidimensional.jl; _setindex!; line: 293\n",
      "       302 multidimensional.jl; _unsafe_setindex!; line: 296\n",
      "        2   cartesian.jl; _unsafe_batchsetindex!; line: 34\n",
      "        2   multidimensional.jl; _unsafe_batchsetindex!; line: 320\n",
      "        1   multidimensional.jl; _unsafe_batchsetindex!; line: 333\n",
      "        212 operators.jl; to_indexes; line: 324\n",
      "     221 ...rs/typical_colors.jl; extract_typical_colors; line: 28\n",
      "      39  ...tering/src/kmeans.jl; kmeans; line: 51\n",
      "       39 ...ering/src/seeding.jl; initseeds; line: 22\n",
      "        13 ...ring/src/seeding.jl; initseeds!; line: 98\n",
      "         13 ...nces/src/generic.jl; colwise!; line: 36\n",
      "          4 ...nces/src/metrics.jl; sumsqdiff; line: 43\n",
      "          1 simdloop.jl; sumsqdiff; line: 67\n",
      "        1  ...ring/src/seeding.jl; initseeds!; line: 104\n",
      "         1 reduce.jl; _mapreduce; line: 153\n",
      "          1 reduce.jl; mapreduce_pairwise_impl; line: 111\n",
      "           1 reduce.jl; mapreduce_pairwise_impl; line: 112\n",
      "            1 reduce.jl; mapreduce_pairwise_impl; line: 112\n",
      "             1 reduce.jl; mapreduce_pairwise_impl; line: 111\n",
      "              1 reduce.jl; mapreduce_pairwise_impl; line: 112\n",
      "               1 reduce.jl; mapreduce_pairwise_impl; line: 111\n",
      "                1 reduce.jl; mapreduce_pairwise_impl; line: 111\n",
      "                 1 reduce.jl; mapreduce_pairwise_impl; line: 111\n",
      "                  1 reduce.jl; mapreduce_pairwise_impl; line: 111\n",
      "                   1 reduce.jl; mapreduce_pairwise_impl; line: 112\n",
      "                    1 reduce.jl; mapreduce_pairwise_impl; line: 108\n",
      "                     1 reduce.jl; mapreduce_seq_impl; line: 230\n",
      "        23 ...ring/src/seeding.jl; initseeds!; line: 109\n",
      "         23 ...nces/src/generic.jl; colwise!; line: 36\n",
      "          3 ...nces/src/metrics.jl; sumsqdiff; line: 40\n",
      "           1 ...ances/src/common.jl; get_common_len; line: 11\n",
      "          7 ...nces/src/metrics.jl; sumsqdiff; line: 43\n",
      "          2 ...nces/src/metrics.jl; sumsqdiff; line: 45\n",
      "          1 simdloop.jl; sumsqdiff; line: 67\n",
      "          1 simdloop.jl; sumsqdiff; line: 75\n",
      "        2  ...ring/src/seeding.jl; initseeds!; line: 110\n",
      "         1 ...tering/src/utils.jl; updatemin!; line: 38\n",
      "         1 ...tering/src/utils.jl; updatemin!; line: 40\n",
      "      182 ...tering/src/kmeans.jl; kmeans; line: 53\n",
      "       182 ...ering/src/kmeans.jl; kmeans!; line: 37\n",
      "        24 ...ering/src/kmeans.jl; _kmeans!; line: 82\n",
      "         18 ...nces/src/metrics.jl; pairwise!; line: 54\n",
      "          1 linalg/matmul.jl; generic_matmatmul!; line: 453\n",
      "          4 linalg/matmul.jl; generic_matmatmul!; line: 485\n",
      "           4 linalg/matmul.jl; copy!; line: 340\n",
      "            2 abstractarray.jl; copy!; line: 364\n",
      "            1 abstractarray.jl; copy!; line: 367\n",
      "            1 abstractarray.jl; copy!; line: 368\n",
      "          1 linalg/matmul.jl; generic_matmatmul!; line: 487\n",
      "          5 linalg/matmul.jl; generic_matmatmul!; line: 492\n",
      "          3 linalg/matmul.jl; generic_matmatmul!; line: 494\n",
      "          4 linalg/matmul.jl; generic_matmatmul!; line: 498\n",
      "           1 abstractarray.jl; copy!; line: 364\n",
      "           2 abstractarray.jl; copy!; line: 367\n",
      "           1 abstractarray.jl; copy!; line: 368\n",
      "         3  ...nces/src/metrics.jl; pairwise!; line: 56\n",
      "          3 simdloop.jl; _mapreducedim!; line: 67\n",
      "         3  ...nces/src/metrics.jl; pairwise!; line: 57\n",
      "          1 ...nces/src/metrics.jl; pdist!; line: 64\n",
      "          1 simdloop.jl; pdist!; line: 67\n",
      "          1 simdloop.jl; pdist!; line: 84\n",
      "        1  ...ering/src/kmeans.jl; _kmeans!; line: 83\n",
      "         1 abstractarray.jl; copy!; line: 307\n",
      "        3  ...ering/src/kmeans.jl; _kmeans!; line: 84\n",
      "         1 ...ering/src/kmeans.jl; update_assignments!; line: 189\n",
      "         1 ...ering/src/kmeans.jl; update_assignments!; line: 203\n",
      "         1 ...ering/src/kmeans.jl; update_assignments!; line: 212\n",
      "        32 ...ering/src/kmeans.jl; _kmeans!; line: 101\n",
      "         1  ...ering/src/kmeans.jl; update_centers!; line: 256\n",
      "         1  ...ering/src/kmeans.jl; update_centers!; line: 257\n",
      "         2  ...ering/src/kmeans.jl; update_centers!; line: 258\n",
      "         5  ...ering/src/kmeans.jl; update_centers!; line: 259\n",
      "         2  ...ering/src/kmeans.jl; update_centers!; line: 261\n",
      "         13 ...ering/src/kmeans.jl; update_centers!; line: 262\n",
      "         2  ...ering/src/kmeans.jl; update_centers!; line: 266\n",
      "         6  ...ering/src/kmeans.jl; update_centers!; line: 269\n",
      "        53 ...ering/src/kmeans.jl; _kmeans!; line: 114\n",
      "         15 ...nces/src/metrics.jl; pairwise!; line: 54\n",
      "          15 linalg/matmul.jl; gemm_wrapper!; line: 328\n",
      "           15 linalg/blas.jl; gemm!; line: 632\n",
      "         22 ...nces/src/metrics.jl; pairwise!; line: 56\n",
      "          3 reducedim.jl; _mapreducedim!; line: 204\n",
      "          9 reducedim.jl; _mapreducedim!; line: 208\n",
      "          5 reducedim.jl; _mapreducedim!; line: 210\n",
      "          3 simdloop.jl; _mapreducedim!; line: 67\n",
      "          2 simdloop.jl; _mapreducedim!; line: 75\n",
      "         16 ...nces/src/metrics.jl; pairwise!; line: 57\n",
      "          1 ...nces/src/metrics.jl; pdist!; line: 61\n",
      "          1 ...nces/src/metrics.jl; pdist!; line: 62\n",
      "          5 ...nces/src/metrics.jl; pdist!; line: 64\n",
      "          2 simdloop.jl; pdist!; line: 67\n",
      "          3 simdloop.jl; pdist!; line: 75\n",
      "          4 simdloop.jl; pdist!; line: 84\n",
      "        36 ...ering/src/kmeans.jl; _kmeans!; line: 118\n",
      "         26 ...nces/src/metrics.jl; pairwise!; line: 54\n",
      "          10 linalg/matmul.jl; generic_matmatmul!; line: 485\n",
      "           9 linalg/matmul.jl; copy!; line: 340\n",
      "            2 abstractarray.jl; copy!; line: 364\n",
      "            4 abstractarray.jl; copy!; line: 367\n",
      "            3 abstractarray.jl; copy!; line: 368\n",
      "          5  linalg/matmul.jl; generic_matmatmul!; line: 492\n",
      "          5  linalg/matmul.jl; generic_matmatmul!; line: 494\n",
      "          6  linalg/matmul.jl; generic_matmatmul!; line: 498\n",
      "           1 abstractarray.jl; copy!; line: 364\n",
      "           2 abstractarray.jl; copy!; line: 367\n",
      "           1 abstractarray.jl; copy!; line: 368\n",
      "           2 abstractarray.jl; copy!; line: 370\n",
      "         5  ...nces/src/metrics.jl; pairwise!; line: 56\n",
      "          4 reducedim.jl; _mapreducedim!; line: 210\n",
      "          1 simdloop.jl; _mapreducedim!; line: 67\n",
      "         5  ...nces/src/metrics.jl; pairwise!; line: 57\n",
      "          2 ...nces/src/metrics.jl; pdist!; line: 62\n",
      "          1 ...nces/src/metrics.jl; pdist!; line: 64\n",
      "          1 simdloop.jl; pdist!; line: 67\n",
      "          1 simdloop.jl; pdist!; line: 84\n",
      "        4  ...ering/src/kmeans.jl; _kmeans!; line: 119\n",
      "         1 cartesian.jl; _unsafe_batchsetindex!; line: 34\n",
      "         1 multidimensional.jl; _unsafe_batchsetindex!; line: 330\n",
      "         2 multidimensional.jl; _unsafe_batchsetindex!; line: 331\n",
      "        27 ...ering/src/kmeans.jl; _kmeans!; line: 124\n",
      "         1 ...ering/src/kmeans.jl; update_assignments!; line: 193\n",
      "         1 ...ering/src/kmeans.jl; update_assignments!; line: 195\n",
      "         9 ...ering/src/kmeans.jl; update_assignments!; line: 196\n",
      "         3 ...ering/src/kmeans.jl; update_assignments!; line: 203\n",
      "         3 ...ering/src/kmeans.jl; update_assignments!; line: 206\n",
      "         3 ...ering/src/kmeans.jl; update_assignments!; line: 212\n",
      "         1 ...ering/src/kmeans.jl; update_assignments!; line: 217\n",
      "         6 ...ering/src/kmeans.jl; update_assignments!; line: 218\n",
      "        2  ...ering/src/kmeans.jl; _kmeans!; line: 130\n",
      "         1 reduce.jl; _mapreduce; line: 153\n",
      "          1 reduce.jl; mapreduce_pairwise_impl; line: 112\n",
      "           1 reduce.jl; mapreduce_pairwise_impl; line: 111\n",
      "            1 reduce.jl; mapreduce_pairwise_impl; line: 111\n",
      "             1 reduce.jl; mapreduce_pairwise_impl; line: 112\n",
      "              1 reduce.jl; mapreduce_pairwise_impl; line: 111\n",
      "               1 reduce.jl; mapreduce_pairwise_impl; line: 112\n",
      "                1 reduce.jl; mapreduce_pairwise_impl; line: 111\n",
      "                 1 reduce.jl; mapreduce_pairwise_impl; line: 111\n",
      "                  1 reduce.jl; mapreduce_pairwise_impl; line: 111\n",
      "                   1 reduce.jl; mapreduce_pairwise_impl; line: 111\n",
      "                    1 reduce.jl; mapreduce_pairwise_impl; line: 108\n",
      "                     1 reduce.jl; mapreduce_seq_impl; line: 230\n"
     ]
    }
   ],
   "source": [
    "Profile.clear()\n",
    "@profile extract_typical_colors(\"images/01.jpg\", 3, filter_pixels=false)\n",
    "Profile.print()"
   ]
  },
  {
   "cell_type": "code",
   "execution_count": 6,
   "metadata": {
    "collapsed": true
   },
   "outputs": [],
   "source": [
    "# extract_typical_colors; line: 25 の hsv2vec を展開"
   ]
  },
  {
   "cell_type": "code",
   "execution_count": 18,
   "metadata": {
    "collapsed": true
   },
   "outputs": [],
   "source": [
    "include(\"typical_colors.jl\")"
   ]
  },
  {
   "cell_type": "code",
   "execution_count": 19,
   "metadata": {
    "collapsed": false
   },
   "outputs": [
    {
     "name": "stdout",
     "output_type": "stream",
     "text": [
      "[1] rgb(#8783a1), hsv(247.13, 0.183, 0.630)\n",
      "[2] rgb(#aaada4), hsv(81.72, 0.048, 0.677)\n",
      "[3] rgb(#9f7238), hsv(33.62, 0.649, 0.624)\n",
      "  1.382597 seconds (6.94 M allocations: 399.051 MB, 8.02% gc time)\n",
      "[1] rgb(#a3a8a3), hsv(123.23, 0.027, 0.658)\n",
      "[2] rgb(#a07a40), hsv(36.05, 0.604, 0.629)\n",
      "[3] rgb(#8781a0), hsv(252.31, 0.193, 0.626)\n",
      "  0.508205 seconds (6.56 M allocations: 262.846 MB, 16.00% gc time)\n",
      "[1] rgb(#aaada4), hsv(81.72, 0.048, 0.677)\n",
      "[2] rgb(#9f7238), hsv(33.62, 0.649, 0.624)\n",
      "[3] rgb(#8783a1), hsv(247.13, 0.183, 0.630)\n",
      "  0.671836 seconds (6.56 M allocations: 315.413 MB, 6.30% gc time)\n"
     ]
    }
   ],
   "source": [
    "@time extract_typical_colors(\"images/01.jpg\", 3, filter_pixels=false)\n",
    "@time extract_typical_colors(\"images/01.jpg\", 3, filter_pixels=false)\n",
    "@time extract_typical_colors(\"images/01.jpg\", 3, filter_pixels=false);"
   ]
  },
  {
   "cell_type": "code",
   "execution_count": 22,
   "metadata": {
    "collapsed": false
   },
   "outputs": [
    {
     "name": "stdout",
     "output_type": "stream",
     "text": [
      "[1] rgb(#a07b41), hsv(36.57, 0.598, 0.629)\n",
      "[2] rgb(#877e9f), hsv(256.67, 0.204, 0.622)\n",
      "[3] rgb(#a4a9a6), hsv(145.31, 0.027, 0.661)\n",
      "392 task.jl; anonymous; line: 447\n",
      " 391 .../IJulia/src/IJulia.jl; eventloop; line: 142\n",
      "  391 ...rc/execute_request.jl; execute_request_0x535c5df2; line: 182\n",
      "   391 loading.jl; include_string; line: 266\n",
      "    391 profile.jl; anonymous; line: 16\n",
      "     5   ...rs/typical_colors.jl; extract_typical_colors; line: 8\n",
      "      5 ...0.4/Images/src/io.jl; imread; line: 128\n",
      "       1 ...formats/OSXnative.jl; read_and_release_imgsrc; line: 36\n",
      "       4 ...formats/OSXnative.jl; read_and_release_imgsrc; line: 92\n",
      "        1 ...ormats/OSXnative.jl; fillcolor!; line: 167\n",
      "        3 ...ormats/OSXnative.jl; fillcolor!; line: 170\n",
      "         2 multidimensional.jl; _unsafe_batchsetindex!; line: 330\n",
      "         1 multidimensional.jl; _unsafe_batchsetindex!; line: 331\n",
      "     25  ...rs/typical_colors.jl; extract_typical_colors; line: 10\n",
      "      17 ...4/Images/src/core.jl; convert; line: 247\n",
      "       2  ...lib/julia/sys.dylib; call; (unknown line)\n",
      "       15 abstractarray.jl; copy!; line: 310\n",
      "        3 .../src/conversions.jl; cnvt; line: 181\n",
      "        3 .../src/conversions.jl; cnvt; line: 182\n",
      "        1 .../src/conversions.jl; cnvt; line: 187\n",
      "        3 .../src/conversions.jl; cnvt; line: 198\n",
      "      8  ....4/Images/src/map.jl; float32; line: 508\n",
      "       8 array.jl; convert; line: 239\n",
      "        8 abstractarray.jl; copy!; line: 310\n",
      "         2 ...rTypes/src/types.jl; call; line: 135\n",
      "     49  ...rs/typical_colors.jl; extract_typical_colors; line: 23\n",
      "     18  ...rs/typical_colors.jl; extract_typical_colors; line: 24\n",
      "      1 array.jl; getindex; line: 282\n",
      "     25  ...rs/typical_colors.jl; extract_typical_colors; line: 25\n",
      "      3 array.jl; setindex!; line: 314\n",
      "     35  ...rs/typical_colors.jl; extract_typical_colors; line: 26\n",
      "      3 array.jl; setindex!; line: 314\n",
      "     63  ...rs/typical_colors.jl; extract_typical_colors; line: 27\n",
      "     171 ...rs/typical_colors.jl; extract_typical_colors; line: 30\n",
      "      43  ...tering/src/kmeans.jl; kmeans; line: 51\n",
      "       43 ...ering/src/seeding.jl; initseeds; line: 22\n",
      "        14 ...ring/src/seeding.jl; initseeds!; line: 98\n",
      "         14 ...nces/src/generic.jl; colwise!; line: 36\n",
      "          1 ...nces/src/metrics.jl; sumsqdiff; line: 40\n",
      "          6 ...nces/src/metrics.jl; sumsqdiff; line: 43\n",
      "          1 simdloop.jl; sumsqdiff; line: 67\n",
      "        1  ...ring/src/seeding.jl; initseeds!; line: 104\n",
      "         1 reduce.jl; _mapreduce; line: 153\n",
      "          1 reduce.jl; mapreduce_pairwise_impl; line: 112\n",
      "           1 reduce.jl; mapreduce_pairwise_impl; line: 112\n",
      "            1 reduce.jl; mapreduce_pairwise_impl; line: 111\n",
      "             1 reduce.jl; mapreduce_pairwise_impl; line: 111\n",
      "              1 reduce.jl; mapreduce_pairwise_impl; line: 111\n",
      "               1 reduce.jl; mapreduce_pairwise_impl; line: 111\n",
      "                1 reduce.jl; mapreduce_pairwise_impl; line: 111\n",
      "                 1 reduce.jl; mapreduce_pairwise_impl; line: 111\n",
      "                  1 reduce.jl; mapreduce_pairwise_impl; line: 112\n",
      "                   1 reduce.jl; mapreduce_pairwise_impl; line: 112\n",
      "                    1 reduce.jl; mapreduce_pairwise_impl; line: 108\n",
      "                     1 simdloop.jl; mapreduce_seq_impl; line: 65\n",
      "        26 ...ring/src/seeding.jl; initseeds!; line: 109\n",
      "         26 ...nces/src/generic.jl; colwise!; line: 36\n",
      "          4 ...nces/src/metrics.jl; sumsqdiff; line: 40\n",
      "          5 ...nces/src/metrics.jl; sumsqdiff; line: 43\n",
      "          2 ...nces/src/metrics.jl; sumsqdiff; line: 45\n",
      "        2  ...ring/src/seeding.jl; initseeds!; line: 110\n",
      "         1 ...tering/src/utils.jl; updatemin!; line: 38\n",
      "         1 ...tering/src/utils.jl; updatemin!; line: 40\n",
      "      128 ...tering/src/kmeans.jl; kmeans; line: 53\n",
      "       128 ...ering/src/kmeans.jl; kmeans!; line: 37\n",
      "        56 ...ering/src/kmeans.jl; _kmeans!; line: 82\n",
      "         48 ...nces/src/metrics.jl; pairwise!; line: 54\n",
      "          31 linalg/matmul.jl; generic_matmatmul!; line: 453\n",
      "          1  linalg/matmul.jl; generic_matmatmul!; line: 485\n",
      "           1 linalg/matmul.jl; copy!; line: 340\n",
      "            1 abstractarray.jl; copy!; line: 367\n",
      "          4  linalg/matmul.jl; generic_matmatmul!; line: 492\n",
      "          3  linalg/matmul.jl; generic_matmatmul!; line: 494\n",
      "          9  linalg/matmul.jl; generic_matmatmul!; line: 498\n",
      "           1 abstractarray.jl; copy!; line: 364\n",
      "           1 abstractarray.jl; copy!; line: 367\n",
      "           6 abstractarray.jl; copy!; line: 368\n",
      "           1 abstractarray.jl; copy!; line: 370\n",
      "         3  ...nces/src/metrics.jl; pairwise!; line: 56\n",
      "          1 reducedim.jl; _mapreducedim!; line: 206\n",
      "          2 reducedim.jl; _mapreducedim!; line: 208\n",
      "         5  ...nces/src/metrics.jl; pairwise!; line: 57\n",
      "          2 ...nces/src/metrics.jl; pdist!; line: 62\n",
      "          2 ...nces/src/metrics.jl; pdist!; line: 64\n",
      "          1 simdloop.jl; pdist!; line: 75\n",
      "        6  ...ering/src/kmeans.jl; _kmeans!; line: 83\n",
      "         6 abstractarray.jl; copy!; line: 307\n",
      "        6  ...ering/src/kmeans.jl; _kmeans!; line: 84\n",
      "         1 ...ering/src/kmeans.jl; update_assignments!; line: 196\n",
      "         3 ...ering/src/kmeans.jl; update_assignments!; line: 217\n",
      "         2 ...ering/src/kmeans.jl; update_assignments!; line: 218\n",
      "        11 ...ering/src/kmeans.jl; _kmeans!; line: 101\n",
      "         3 ...ering/src/kmeans.jl; update_centers!; line: 256\n",
      "         1 ...ering/src/kmeans.jl; update_centers!; line: 257\n",
      "         1 ...ering/src/kmeans.jl; update_centers!; line: 258\n",
      "         1 ...ering/src/kmeans.jl; update_centers!; line: 259\n",
      "         1 ...ering/src/kmeans.jl; update_centers!; line: 262\n",
      "         2 ...ering/src/kmeans.jl; update_centers!; line: 266\n",
      "         2 ...ering/src/kmeans.jl; update_centers!; line: 269\n",
      "        9  ...ering/src/kmeans.jl; _kmeans!; line: 114\n",
      "         2 ...nces/src/metrics.jl; pairwise!; line: 54\n",
      "          2 linalg/matmul.jl; gemm_wrapper!; line: 328\n",
      "           2 linalg/blas.jl; gemm!; line: 632\n",
      "         3 ...nces/src/metrics.jl; pairwise!; line: 56\n",
      "          2 reducedim.jl; _mapreducedim!; line: 208\n",
      "          1 simdloop.jl; _mapreducedim!; line: 67\n",
      "         4 ...nces/src/metrics.jl; pairwise!; line: 57\n",
      "          1 ...nces/src/metrics.jl; pdist!; line: 62\n",
      "          2 ...nces/src/metrics.jl; pdist!; line: 64\n",
      "          1 simdloop.jl; pdist!; line: 67\n",
      "        27 ...ering/src/kmeans.jl; _kmeans!; line: 118\n",
      "         17 ...nces/src/metrics.jl; pairwise!; line: 54\n",
      "          1 linalg/matmul.jl; generic_matmatmul!; line: 477\n",
      "           1 ...lib/julia/sys.dylib; steprange_last; (unknown line)\n",
      "          6 linalg/matmul.jl; generic_matmatmul!; line: 485\n",
      "           6 linalg/matmul.jl; copy!; line: 340\n",
      "            1 abstractarray.jl; copy!; line: 353\n",
      "            1 abstractarray.jl; copy!; line: 364\n",
      "            2 abstractarray.jl; copy!; line: 367\n",
      "            2 abstractarray.jl; copy!; line: 368\n",
      "          6 linalg/matmul.jl; generic_matmatmul!; line: 492\n",
      "          3 linalg/matmul.jl; generic_matmatmul!; line: 494\n",
      "          1 linalg/matmul.jl; generic_matmatmul!; line: 498\n",
      "           1 abstractarray.jl; copy!; line: 364\n",
      "         7  ...nces/src/metrics.jl; pairwise!; line: 56\n",
      "          3 reducedim.jl; _mapreducedim!; line: 208\n",
      "          3 reducedim.jl; _mapreducedim!; line: 210\n",
      "          1 simdloop.jl; _mapreducedim!; line: 67\n",
      "         3  ...nces/src/metrics.jl; pairwise!; line: 57\n",
      "          1 simdloop.jl; pdist!; line: 67\n",
      "          2 simdloop.jl; pdist!; line: 84\n",
      "        4  ...ering/src/kmeans.jl; _kmeans!; line: 119\n",
      "         3 cartesian.jl; _unsafe_batchsetindex!; line: 34\n",
      "         1 multidimensional.jl; _unsafe_batchsetindex!; line: 331\n",
      "        8  ...ering/src/kmeans.jl; _kmeans!; line: 124\n",
      "         4 ...ering/src/kmeans.jl; update_assignments!; line: 195\n",
      "         1 ...ering/src/kmeans.jl; update_assignments!; line: 196\n",
      "         1 ...ering/src/kmeans.jl; update_assignments!; line: 206\n",
      "         1 ...ering/src/kmeans.jl; update_assignments!; line: 212\n",
      "         1 ...ering/src/kmeans.jl; update_assignments!; line: 218\n",
      "        1  ...ering/src/kmeans.jl; _kmeans!; line: 130\n",
      "         1 reduce.jl; _mapreduce; line: 153\n",
      "          1 reduce.jl; mapreduce_pairwise_impl; line: 111\n",
      "           1 reduce.jl; mapreduce_pairwise_impl; line: 111\n",
      "            1 reduce.jl; mapreduce_pairwise_impl; line: 112\n",
      "             1 reduce.jl; mapreduce_pairwise_impl; line: 112\n",
      "              1 reduce.jl; mapreduce_pairwise_impl; line: 112\n",
      "               1 reduce.jl; mapreduce_pairwise_impl; line: 111\n",
      "                1 reduce.jl; mapreduce_pairwise_impl; line: 111\n",
      "                 1 reduce.jl; mapreduce_pairwise_impl; line: 111\n",
      "                  1 reduce.jl; mapreduce_pairwise_impl; line: 111\n",
      "                   1 reduce.jl; mapreduce_pairwise_impl; line: 112\n",
      "                    1 reduce.jl; mapreduce_pairwise_impl; line: 108\n",
      "                     1 reduce.jl; mapreduce_seq_impl; line: 230\n",
      " 1   ...4/IJulia/src/stdio.jl; watch_stream; line: 53\n",
      "  1 stream.jl; eof; line: 1209\n",
      "   1 stream.jl; wait_readnb; line: 364\n"
     ]
    },
    {
     "name": "stderr",
     "output_type": "stream",
     "text": [
      "WARNING: The objective value changes towards an opposite direction\n"
     ]
    }
   ],
   "source": [
    "Profile.clear()\n",
    "@profile extract_typical_colors(\"images/01.jpg\", 3, filter_pixels=false)\n",
    "Profile.print()"
   ]
  },
  {
   "cell_type": "code",
   "execution_count": 23,
   "metadata": {
    "collapsed": false
   },
   "outputs": [
    {
     "name": "stdout",
     "output_type": "stream",
     "text": [
      "[1] rgb(#94460d), hsv(25.03, 0.910, 0.581)\n",
      "[2] rgb(#aa7621), hsv(37.45, 0.806, 0.666)\n",
      "[3] rgb(#850e10), hsv(359.27, 0.893, 0.521)\n",
      "350 task.jl; anonymous; line: 447\n",
      " 350 .../IJulia/src/IJulia.jl; eventloop; line: 142\n",
      "  350 ...rc/execute_request.jl; execute_request_0x535c5df2; line: 182\n",
      "   350 loading.jl; include_string; line: 266\n",
      "    350 profile.jl; anonymous; line: 16\n",
      "     6   ...rs/typical_colors.jl; extract_typical_colors; line: 8\n",
      "      6 ...0.4/Images/src/io.jl; imread; line: 128\n",
      "       6 ...formats/OSXnative.jl; read_and_release_imgsrc; line: 92\n",
      "        2 ...ormats/OSXnative.jl; fillcolor!; line: 167\n",
      "        4 ...ormats/OSXnative.jl; fillcolor!; line: 170\n",
      "         1 cartesian.jl; _unsafe_batchsetindex!; line: 34\n",
      "         1 multidimensional.jl; _unsafe_batchsetindex!; line: 330\n",
      "         2 multidimensional.jl; _unsafe_batchsetindex!; line: 331\n",
      "     24  ...rs/typical_colors.jl; extract_typical_colors; line: 10\n",
      "      16 ...4/Images/src/core.jl; convert; line: 247\n",
      "       2  ...lib/julia/sys.dylib; call; (unknown line)\n",
      "       14 abstractarray.jl; copy!; line: 310\n",
      "        3 .../src/conversions.jl; cnvt; line: 181\n",
      "        1 .../src/conversions.jl; cnvt; line: 182\n",
      "        2 .../src/conversions.jl; cnvt; line: 194\n",
      "        4 .../src/conversions.jl; cnvt; line: 198\n",
      "      8  ....4/Images/src/map.jl; float32; line: 508\n",
      "       8 array.jl; convert; line: 239\n",
      "        8 abstractarray.jl; copy!; line: 310\n",
      "         4 ...rTypes/src/types.jl; call; line: 135\n",
      "     55  ...rs/typical_colors.jl; extract_typical_colors; line: 13\n",
      "      55 array.jl; filter; line: 923\n",
      "       2  abstractarray.jl; getindex; line: 491\n",
      "        1 multidimensional.jl; _unsafe_getindex; line: 206\n",
      "         1 reduce.jl; count; line: 404\n",
      "        1 multidimensional.jl; _unsafe_getindex; line: 215\n",
      "       53 abstractarray.jl; map; line: 1311\n",
      "        51 abstractarray.jl; map_to!; line: 1289\n",
      "         46 ...s/typical_colors.jl; anonymous; line: 14\n",
      "        1  abstractarray.jl; map_to!; line: 1292\n",
      "        1  abstractarray.jl; map_to!; line: 1298\n",
      "     12  ...rs/typical_colors.jl; extract_typical_colors; line: 23\n",
      "     18  ...rs/typical_colors.jl; extract_typical_colors; line: 24\n",
      "      3 array.jl; getindex; line: 282\n",
      "     18  ...rs/typical_colors.jl; extract_typical_colors; line: 25\n",
      "      1 array.jl; setindex!; line: 314\n",
      "     10  ...rs/typical_colors.jl; extract_typical_colors; line: 26\n",
      "     24  ...rs/typical_colors.jl; extract_typical_colors; line: 27\n",
      "      2 array.jl; setindex!; line: 314\n",
      "     182 ...rs/typical_colors.jl; extract_typical_colors; line: 30\n",
      "      20  ...tering/src/kmeans.jl; kmeans; line: 51\n",
      "       20 ...ering/src/seeding.jl; initseeds; line: 22\n",
      "        7  ...ring/src/seeding.jl; initseeds!; line: 98\n",
      "         7 ...nces/src/generic.jl; colwise!; line: 36\n",
      "          3 ...nces/src/metrics.jl; sumsqdiff; line: 43\n",
      "        2  ...ring/src/seeding.jl; initseeds!; line: 104\n",
      "         2 reduce.jl; _mapreduce; line: 153\n",
      "          2 reduce.jl; mapreduce_pairwise_impl; line: 111\n",
      "           1 reduce.jl; mapreduce_pairwise_impl; line: 111\n",
      "            1 reduce.jl; mapreduce_pairwise_impl; line: 112\n",
      "             1 reduce.jl; mapreduce_pairwise_impl; line: 112\n",
      "              1 reduce.jl; mapreduce_pairwise_impl; line: 111\n",
      "               1 reduce.jl; mapreduce_pairwise_impl; line: 111\n",
      "                1 reduce.jl; mapreduce_pairwise_impl; line: 111\n",
      "                 1 reduce.jl; mapreduce_pairwise_impl; line: 112\n",
      "                  1 reduce.jl; mapreduce_pairwise_impl; line: 112\n",
      "                   1 reduce.jl; mapreduce_pairwise_impl; line: 108\n",
      "                    1 reduce.jl; mapreduce_seq_impl; line: 230\n",
      "           1 reduce.jl; mapreduce_pairwise_impl; line: 112\n",
      "            1 reduce.jl; mapreduce_pairwise_impl; line: 111\n",
      "             1 reduce.jl; mapreduce_pairwise_impl; line: 111\n",
      "              1 reduce.jl; mapreduce_pairwise_impl; line: 111\n",
      "               1 reduce.jl; mapreduce_pairwise_impl; line: 112\n",
      "                1 reduce.jl; mapreduce_pairwise_impl; line: 111\n",
      "                 1 reduce.jl; mapreduce_pairwise_impl; line: 112\n",
      "                  1 reduce.jl; mapreduce_pairwise_impl; line: 112\n",
      "                   1 reduce.jl; mapreduce_pairwise_impl; line: 108\n",
      "                    1 reduce.jl; mapreduce_seq_impl; line: 230\n",
      "        11 ...ring/src/seeding.jl; initseeds!; line: 109\n",
      "         11 ...nces/src/generic.jl; colwise!; line: 36\n",
      "          4 ...nces/src/metrics.jl; sumsqdiff; line: 43\n",
      "          1 simdloop.jl; sumsqdiff; line: 67\n",
      "      162 ...tering/src/kmeans.jl; kmeans; line: 53\n",
      "       2   ...ering/src/kmeans.jl; kmeans!; line: 34\n",
      "       160 ...ering/src/kmeans.jl; kmeans!; line: 37\n",
      "        10 ...ering/src/kmeans.jl; _kmeans!; line: 82\n",
      "         7 ...nces/src/metrics.jl; pairwise!; line: 54\n",
      "          2 linalg/matmul.jl; generic_matmatmul!; line: 484\n",
      "           1 linalg/matmul.jl; copy_transpose!; line: 348\n",
      "          2 linalg/matmul.jl; generic_matmatmul!; line: 485\n",
      "           2 linalg/matmul.jl; copy!; line: 340\n",
      "            1 abstractarray.jl; copy!; line: 368\n",
      "            1 abstractarray.jl; copy!; line: 372\n",
      "          1 linalg/matmul.jl; generic_matmatmul!; line: 492\n",
      "          1 linalg/matmul.jl; generic_matmatmul!; line: 494\n",
      "          1 linalg/matmul.jl; generic_matmatmul!; line: 498\n",
      "           1 abstractarray.jl; copy!; line: 370\n",
      "         1 ...nces/src/metrics.jl; pairwise!; line: 56\n",
      "          1 reducedim.jl; _mapreducedim!; line: 208\n",
      "         2 ...nces/src/metrics.jl; pairwise!; line: 57\n",
      "          1 ...nces/src/metrics.jl; pdist!; line: 64\n",
      "          1 simdloop.jl; pdist!; line: 67\n",
      "        1  ...ering/src/kmeans.jl; _kmeans!; line: 83\n",
      "         1 abstractarray.jl; copy!; line: 307\n",
      "        1  ...ering/src/kmeans.jl; _kmeans!; line: 84\n",
      "         1 ...ering/src/kmeans.jl; update_assignments!; line: 193\n",
      "        22 ...ering/src/kmeans.jl; _kmeans!; line: 101\n",
      "         1 ...ering/src/kmeans.jl; update_centers!; line: 256\n",
      "         1 ...ering/src/kmeans.jl; update_centers!; line: 257\n",
      "         1 ...ering/src/kmeans.jl; update_centers!; line: 258\n",
      "         3 ...ering/src/kmeans.jl; update_centers!; line: 259\n",
      "         2 ...ering/src/kmeans.jl; update_centers!; line: 260\n",
      "         2 ...ering/src/kmeans.jl; update_centers!; line: 261\n",
      "         7 ...ering/src/kmeans.jl; update_centers!; line: 262\n",
      "         2 ...ering/src/kmeans.jl; update_centers!; line: 266\n",
      "         3 ...ering/src/kmeans.jl; update_centers!; line: 269\n",
      "        3  ...ering/src/kmeans.jl; _kmeans!; line: 114\n",
      "         2 ...nces/src/metrics.jl; pairwise!; line: 56\n",
      "          1 reducedim.jl; _mapreducedim!; line: 210\n",
      "          1 simdloop.jl; _mapreducedim!; line: 67\n",
      "         1 ...nces/src/metrics.jl; pairwise!; line: 57\n",
      "          1 ...nces/src/metrics.jl; pdist!; line: 64\n",
      "        97 ...ering/src/kmeans.jl; _kmeans!; line: 118\n",
      "         70 ...nces/src/metrics.jl; pairwise!; line: 54\n",
      "          2  linalg/matmul.jl; generic_matmatmul!; line: 453\n",
      "          3  linalg/matmul.jl; generic_matmatmul!; line: 477\n",
      "           3 ...lib/julia/sys.dylib; steprange_last; (unknown line)\n",
      "          1  linalg/matmul.jl; generic_matmatmul!; line: 481\n",
      "           1 ...lib/julia/sys.dylib; steprange_last; (unknown line)\n",
      "          1  linalg/matmul.jl; generic_matmatmul!; line: 484\n",
      "           1 linalg/matmul.jl; copy_transpose!; line: 349\n",
      "            1 abstractarray.jl; copy!; line: 367\n",
      "          12 linalg/matmul.jl; generic_matmatmul!; line: 485\n",
      "           12 linalg/matmul.jl; copy!; line: 340\n",
      "            6 abstractarray.jl; copy!; line: 367\n",
      "            2 abstractarray.jl; copy!; line: 368\n",
      "            4 abstractarray.jl; copy!; line: 370\n",
      "          1  linalg/matmul.jl; generic_matmatmul!; line: 486\n",
      "          1  linalg/matmul.jl; generic_matmatmul!; line: 487\n",
      "          1  linalg/matmul.jl; generic_matmatmul!; line: 488\n",
      "          15 linalg/matmul.jl; generic_matmatmul!; line: 492\n",
      "          4  linalg/matmul.jl; generic_matmatmul!; line: 494\n",
      "          29 linalg/matmul.jl; generic_matmatmul!; line: 498\n",
      "           2  abstractarray.jl; copy!; line: 353\n",
      "           1  abstractarray.jl; copy!; line: 362\n",
      "           3  abstractarray.jl; copy!; line: 364\n",
      "           6  abstractarray.jl; copy!; line: 367\n",
      "           12 abstractarray.jl; copy!; line: 368\n",
      "           4  abstractarray.jl; copy!; line: 370\n",
      "         17 ...nces/src/metrics.jl; pairwise!; line: 56\n",
      "          3 reducedim.jl; _mapreducedim!; line: 204\n",
      "          1 reducedim.jl; _mapreducedim!; line: 205\n",
      "          8 reducedim.jl; _mapreducedim!; line: 208\n",
      "          3 reducedim.jl; _mapreducedim!; line: 210\n",
      "          1 simdloop.jl; _mapreducedim!; line: 67\n",
      "          1 simdloop.jl; _mapreducedim!; line: 75\n",
      "         10 ...nces/src/metrics.jl; pairwise!; line: 57\n",
      "          4 ...nces/src/metrics.jl; pdist!; line: 62\n",
      "          2 ...nces/src/metrics.jl; pdist!; line: 64\n",
      "          4 simdloop.jl; pdist!; line: 75\n",
      "        11 ...ering/src/kmeans.jl; _kmeans!; line: 119\n",
      "         1 cartesian.jl; _unsafe_batchsetindex!; line: 31\n",
      "         2 cartesian.jl; _unsafe_batchsetindex!; line: 34\n",
      "         3 multidimensional.jl; _unsafe_batchsetindex!; line: 330\n",
      "         5 multidimensional.jl; _unsafe_batchsetindex!; line: 331\n",
      "        15 ...ering/src/kmeans.jl; _kmeans!; line: 124\n",
      "         3 ...ering/src/kmeans.jl; update_assignments!; line: 193\n",
      "         1 ...ering/src/kmeans.jl; update_assignments!; line: 195\n",
      "         4 ...ering/src/kmeans.jl; update_assignments!; line: 196\n",
      "         1 ...ering/src/kmeans.jl; update_assignments!; line: 206\n",
      "         1 ...ering/src/kmeans.jl; update_assignments!; line: 212\n",
      "         4 ...ering/src/kmeans.jl; update_assignments!; line: 217\n",
      "         1 ...ering/src/kmeans.jl; update_assignments!; line: 218\n",
      "     1   printf.jl; extract_typical_colors; line: 145\n",
      "      1 stream.jl; write; line: 1000\n",
      "       1 stream.jl; buffer_or_write; line: 954\n",
      "        1 stream.jl; uv_write; line: 944\n",
      "         1 .../lib/julia/sys.dylib; stream_wait; (unknown line)\n",
      "          1 ...lib/julia/sys.dylib; wait; (unknown line)\n",
      "           1 ...lib/julia/sys.dylib; process_events; (unknown line)\n",
      "            1 ...lib/julia/sys.dylib; jlcapi_uv_readcb_19179; (unknown line)\n",
      "             1 ...ib/julia/sys.dylib; uv_readcb; (unknown line)\n",
      "              1 ...ib/julia/sys.dylib; __notify#32__; (unknown line)\n",
      "               1 ...b/julia/sys.dylib; notify; (unknown line)\n"
     ]
    },
    {
     "name": "stderr",
     "output_type": "stream",
     "text": [
      "WARNING: The objective value changes towards an opposite direction\n"
     ]
    }
   ],
   "source": [
    "Profile.clear()\n",
    "@profile extract_typical_colors(\"images/01.jpg\", 3, filter_pixels=true)\n",
    "Profile.print()"
   ]
  },
  {
   "cell_type": "code",
   "execution_count": 26,
   "metadata": {
    "collapsed": false
   },
   "outputs": [
    {
     "name": "stdout",
     "output_type": "stream",
     "text": [
      "[1] rgb(#aa7721), hsv(37.48, 0.805, 0.666)\n",
      "[2] rgb(#850e10), hsv(359.27, 0.893, 0.521)\n",
      "[3] rgb(#94460e), hsv(25.10, 0.909, 0.582)\n",
      "  0.609551 seconds (4.64 M allocations: 227.897 MB, 8.91% gc time)\n",
      "elapsed time (ns): 609550775\n",
      "gc time (ns):      54327259\n",
      "bytes allocated:   238967696\n",
      "pool allocs:       4639075\n",
      "malloc() calls:    37\n",
      "GC pauses:         10\n"
     ]
    },
    {
     "name": "stderr",
     "output_type": "stream",
     "text": [
      "WARNING: The objective value changes towards an opposite direction\n"
     ]
    }
   ],
   "source": [
    "@timev extract_typical_colors(\"images/01.jpg\", 3, filter_pixels=true)"
   ]
  },
  {
   "cell_type": "code",
   "execution_count": 27,
   "metadata": {
    "collapsed": false
   },
   "outputs": [
    {
     "name": "stdout",
     "output_type": "stream",
     "text": [
      "[1] rgb(#a17d42), hsv(37.35, 0.591, 0.630)\n",
      "[2] rgb(#a4a8ac), hsv(206.98, 0.047, 0.675)\n",
      "[3] rgb(#772c3d), hsv(346.14, 0.626, 0.465)\n",
      "  0.650171 seconds (6.56 M allocations: 277.850 MB, 16.63% gc time)\n",
      "elapsed time (ns): 650170539\n",
      "gc time (ns):      108093954\n",
      "bytes allocated:   291346608\n",
      "pool allocs:       6561464\n",
      "malloc() calls:    16\n",
      "GC pauses:         12\n",
      "full collections:  1\n"
     ]
    }
   ],
   "source": [
    "@timev extract_typical_colors(\"images/01.jpg\", 3, filter_pixels=false)"
   ]
  },
  {
   "cell_type": "code",
   "execution_count": 28,
   "metadata": {
    "collapsed": true
   },
   "outputs": [],
   "source": [
    "# pixel_vectors = hsv2vec(hsv_pixels)"
   ]
  },
  {
   "cell_type": "code",
   "execution_count": 29,
   "metadata": {
    "collapsed": false
   },
   "outputs": [
    {
     "name": "stdout",
     "output_type": "stream",
     "text": [
      "[1] rgb(#a17d42), hsv(37.35, 0.591, 0.630)\n",
      "[2] rgb(#772c3d), hsv(346.14, 0.626, 0.465)\n",
      "[3] rgb(#a4a8ac), hsv(206.98, 0.047, 0.675)\n",
      "  0.571089 seconds (2.35 M allocations: 196.147 MB, 4.02% gc time)\n",
      "[1] rgb(#a07b41), hsv(36.57, 0.598, 0.629)\n",
      "[2] rgb(#877e9f), hsv(256.67, 0.204, 0.622)\n",
      "[3] rgb(#a4a9a6), hsv(145.31, 0.027, 0.661)\n",
      "  0.262058 seconds (1.97 M allocations: 165.249 MB, 30.61% gc time)\n",
      "[1] rgb(#9f7238), hsv(33.62, 0.649, 0.624)\n",
      "[2] rgb(#8783a1), hsv(247.13, 0.183, 0.630)\n",
      "[3] rgb(#aaada4), hsv(81.72, 0.048, 0.677)\n",
      "  0.536340 seconds (1.97 M allocations: 235.338 MB, 6.40% gc time)\n"
     ]
    }
   ],
   "source": [
    "include(\"typical_colors.jl\")\n",
    "@time extract_typical_colors(\"images/01.jpg\", 3, filter_pixels=false)\n",
    "@time extract_typical_colors(\"images/01.jpg\", 3, filter_pixels=false)\n",
    "@time extract_typical_colors(\"images/01.jpg\", 3, filter_pixels=false);"
   ]
  },
  {
   "cell_type": "code",
   "execution_count": 30,
   "metadata": {
    "collapsed": false
   },
   "outputs": [
    {
     "name": "stdout",
     "output_type": "stream",
     "text": [
      "[1] rgb(#a17d42), hsv(37.35, 0.591, 0.630)\n",
      "[2] rgb(#772c3d), hsv(346.14, 0.626, 0.465)\n",
      "[3] rgb(#a4a8ac), hsv(206.98, 0.047, 0.675)\n",
      "  0.414757 seconds (1.97 M allocations: 192.772 MB, 20.66% gc time)\n",
      "elapsed time (ns): 414756771\n",
      "gc time (ns):      85671073\n",
      "bytes allocated:   202135616\n",
      "pool allocs:       1969842\n",
      "malloc() calls:    18\n",
      "GC pauses:         8\n",
      "[1] rgb(#a0763c), hsv(34.79, 0.624, 0.627)\n",
      "[2] rgb(#8782a0), hsv(250.74, 0.190, 0.628)\n",
      "[3] rgb(#a6aaa4), hsv(97.89, 0.036, 0.668)\n",
      "  0.393967 seconds (1.97 M allocations: 175.265 MB, 26.56% gc time)\n",
      "elapsed time (ns): 393966799\n",
      "gc time (ns):      104643624\n",
      "bytes allocated:   183778416\n",
      "pool allocs:       1970090\n",
      "malloc() calls:    17\n",
      "GC pauses:         7\n",
      "full collections:  1\n",
      "[1] rgb(#a4a8ac), hsv(206.98, 0.047, 0.675)\n",
      "[2] rgb(#a17d42), hsv(37.35, 0.591, 0.630)\n",
      "[3] rgb(#772c3d), hsv(346.14, 0.626, 0.465)\n",
      "  0.267017 seconds (1.97 M allocations: 180.269 MB, 8.10% gc time)\n",
      "elapsed time (ns): 267016883\n",
      "gc time (ns):      21630139\n",
      "bytes allocated:   189026208\n",
      "pool allocs:       1970053\n",
      "malloc() calls:    16\n",
      "GC pauses:         8\n"
     ]
    }
   ],
   "source": [
    "@timev extract_typical_colors(\"images/01.jpg\", 3, filter_pixels=false)\n",
    "@timev extract_typical_colors(\"images/01.jpg\", 3, filter_pixels=false)\n",
    "@timev extract_typical_colors(\"images/01.jpg\", 3, filter_pixels=false)"
   ]
  },
  {
   "cell_type": "code",
   "execution_count": 36,
   "metadata": {
    "collapsed": false
   },
   "outputs": [
    {
     "name": "stdout",
     "output_type": "stream",
     "text": [
      "[1] rgb(#aa7621), hsv(37.45, 0.806, 0.666)\n",
      "[2] rgb(#850e10), hsv(359.27, 0.893, 0.521)\n",
      "[3] rgb(#94460d), hsv(25.03, 0.910, 0.581)\n",
      "  0.653711 seconds (1.27 M allocations: 182.291 MB, 5.11% gc time)\n"
     ]
    },
    {
     "name": "stderr",
     "output_type": "stream",
     "text": [
      "WARNING: The objective value changes towards an opposite direction\n"
     ]
    },
    {
     "name": "stdout",
     "output_type": "stream",
     "text": [
      "[1] rgb(#aa7621), hsv(37.45, 0.806, 0.666)\n",
      "[2] rgb(#850e10), hsv(359.27, 0.893, 0.521)\n",
      "[3] rgb(#94460d), hsv(25.03, 0.910, 0.581)\n",
      "  0.406444 seconds (890.18 k allocations: 166.447 MB, 12.50% gc time)\n"
     ]
    },
    {
     "name": "stderr",
     "output_type": "stream",
     "text": [
      "WARNING: The objective value changes towards an opposite direction\n"
     ]
    },
    {
     "name": "stdout",
     "output_type": "stream",
     "text": [
      "[1] rgb(#94460d), hsv(25.03, 0.910, 0.581)\n",
      "[2] rgb(#aa7621), hsv(37.45, 0.806, 0.666)\n",
      "[3] rgb(#850e10), hsv(359.27, 0.893, 0.521)\n",
      "  0.343367 seconds (890.09 k allocations: 149.515 MB, 18.88% gc time)\n"
     ]
    },
    {
     "name": "stderr",
     "output_type": "stream",
     "text": [
      "WARNING: The objective value changes towards an opposite direction\n"
     ]
    }
   ],
   "source": [
    "# extract filter_pixels function\n",
    "include(\"typical_colors.jl\")\n",
    "@time extract_typical_colors(\"images/01.jpg\", 3, filter_pixels=true)\n",
    "@time extract_typical_colors(\"images/01.jpg\", 3, filter_pixels=true)\n",
    "@time extract_typical_colors(\"images/01.jpg\", 3, filter_pixels=true);"
   ]
  },
  {
   "cell_type": "code",
   "execution_count": null,
   "metadata": {
    "collapsed": true
   },
   "outputs": [],
   "source": []
  }
 ],
 "metadata": {
  "kernelspec": {
   "display_name": "Julia 0.4.1",
   "language": "julia",
   "name": "julia-0.4"
  },
  "language_info": {
   "file_extension": ".jl",
   "mimetype": "application/julia",
   "name": "julia",
   "version": "0.4.1"
  }
 },
 "nbformat": 4,
 "nbformat_minor": 0
}
